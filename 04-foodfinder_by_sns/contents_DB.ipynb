{
 "cells": [
  {
   "cell_type": "code",
   "execution_count": 1,
   "id": "7c2164df-e02f-4bac-a66d-1630f184aa5e",
   "metadata": {},
   "outputs": [],
   "source": [
    "from pymongo import MongoClient\n",
    "import pandas as pd\n",
    "\n",
    "def connect_mongodb(db_name, collection_name):\n",
    "    # MongoDB 클라이언트 생성 (기본 포트 27017)\n",
    "    client = MongoClient(\"mongodb://localhost:27017/\")  # 변경: 본인의 MongoDB URI\n",
    "    db = client[db_name]  # 데이터베이스 선택\n",
    "    collection = db[collection_name]  # 컬렉션 선택\n",
    "    return collection\n",
    "\n",
    "# DataFrame을 MongoDB에 저장하는 함수\n",
    "def save_to_mongodb_unique(df, collection):\n",
    "    data_dict = df.to_dict(\"records\")\n",
    "    for record in data_dict:\n",
    "        collection.update_one(\n",
    "            {\"content\": record[\"content\"]},  # content 필드를 기준으로 중복 확인\n",
    "            {\"$setOnInsert\": record},        # 데이터가 없을 때만 삽입\n",
    "            upsert=True                      # 조건에 맞는 데이터가 없으면 삽입\n",
    "        )"
   ]
  },
  {
   "cell_type": "code",
   "execution_count": 2,
   "id": "d0aa1b9c-123a-4cf8-87cf-47c89a743015",
   "metadata": {},
   "outputs": [],
   "source": [
    "# MongoDB에서 데이터를 읽어오는 함수\n",
    "def read_from_mongodb(collection):\n",
    "    data = list(collection.find())  # MongoDB에서 모든 데이터 가져오기\n",
    "    return pd.DataFrame(data)       # DataFrame으로 변환"
   ]
  },
  {
   "cell_type": "code",
   "execution_count": 3,
   "id": "a9b243ca-3600-43cb-bf46-235b74cd3fea",
   "metadata": {},
   "outputs": [],
   "source": [
    "# DB에서 중복을 제거하는 함수\n",
    "def remove_duplicates(collection, field_name):\n",
    "    # 중복을 기준으로 조건 설정\n",
    "    unique_items = collection.aggregate([\n",
    "        {\"$group\": {\n",
    "            \"_id\": f\"${field_name}\",\n",
    "            \"count\": {\"$sum\": 1},\n",
    "            \"docs\": {\"$push\": \"$_id\"}\n",
    "        }},\n",
    "        {\"$match\": {\"count\": {\"$gt\": 1}}}\n",
    "    ])\n",
    "\n",
    "    # 중복된 문서 삭제\n",
    "    for item in unique_items:\n",
    "        # 첫 번째 문서를 제외한 나머지 삭제\n",
    "        docs_to_delete = item['docs'][1:]\n",
    "        collection.delete_many({\"_id\": {\"$in\": docs_to_delete}})"
   ]
  },
  {
   "cell_type": "code",
   "execution_count": 24,
   "id": "a1f2f604-aaef-4f6b-b79f-be0663d81ccf",
   "metadata": {},
   "outputs": [
    {
     "name": "stdout",
     "output_type": "stream",
     "text": [
      "Data saved to MongoDB successfully!\n"
     ]
    }
   ],
   "source": [
    "# MongoDB 연결\n",
    "# mydatabas 데이터베이스의 mycollection 컬렉션에 연결\n",
    "\n",
    "collection = connect_mongodb(db_name=\"mydatabase\", collection_name=\"mycollection\")"
   ]
  },
  {
   "cell_type": "code",
   "execution_count": null,
   "id": "1bf4820a",
   "metadata": {},
   "outputs": [],
   "source": [
    "remove_duplicates(collection, \"content\") # DB의 content 기준으로 중복 제거\n",
    "save_to_mongodb_unique(results_df, collection) # 중복 제거된 데이터 저장\n",
    "print(\"Data saved to MongoDB successfully!\")"
   ]
  },
  {
   "cell_type": "code",
   "execution_count": null,
   "id": "eb766650-488b-46b7-a17f-d89f7e0255be",
   "metadata": {},
   "outputs": [],
   "source": [
    "from pymongo import MongoClient\n",
    "\n",
    "# MongoDB 연결\n",
    "client = MongoClient('mongodb://localhost:27017/')  # 연결 URL\n",
    "db = client['mydatabase']  # 사용할 데이터베이스 이름\n",
    "collection = db['mycollection']  # 사용할 컬렉션 이름\n",
    "\n",
    "# 정리 함수 정의\n",
    "def clean_text(text):\n",
    "    \"\"\" 대괄호([])와 작은따옴표(') 제거하는 함수 \"\"\"\n",
    "    if isinstance(text, str):  # 문자열일 때만 처리\n",
    "        return text.strip(\"[]\").replace(\"'\", \"\").strip()\n",
    "    return text  # 문자열이 아니면 그대로 반환\n",
    "\n",
    "# 데이터 정리 및 업데이트\n",
    "for doc in collection.find():\n",
    "    update_fields = {}  # 업데이트할 필드 저장용 딕셔너리\n",
    "    \n",
    "    # 정리할 필드 리스트\n",
    "    fields_to_clean = ['address', 'comments', 'hashtags', 'restaurant name']\n",
    "    \n",
    "    for field in fields_to_clean:\n",
    "        # 필드가 문서에 존재하면 정리 후 저장\n",
    "        if field in doc:\n",
    "            cleaned_text = clean_text(doc[field])\n",
    "            if doc[field] != cleaned_text:  # 변경이 있을 때만 업데이트\n",
    "                update_fields[field] = cleaned_text\n",
    "    \n",
    "    # 업데이트 실행\n",
    "    if update_fields:\n",
    "        collection.update_one({'_id': doc['_id']}, {'$set': update_fields})\n",
    "        print(f\"Updated: {update_fields}\")\n",
    "\n",
    "print(\"모든 필드 정리 완료!\")\n"
   ]
  },
  {
   "cell_type": "code",
   "execution_count": 1,
   "id": "89eafdd3",
   "metadata": {},
   "outputs": [
    {
     "name": "stdout",
     "output_type": "stream",
     "text": [
      "삭제된 문서 수: 0\n"
     ]
    }
   ],
   "source": [
    "# DB 전처리 : 특정 필드가 '없음'인 문서 삭제\n",
    "# 삭제 조건 : address 필드가 '없음'인 문서 삭제\n",
    "result = collection.delete_many({\"restaurant name\": \"없음\"})\n",
    "result = collection.delete_many({\"address\": \"없음\"})\n",
    "\n",
    "# 삭제 결과 출력\n",
    "print(f\"삭제된 문서 수: {result.deleted_count}\")"
   ]
  }
 ],
 "metadata": {
  "kernelspec": {
   "display_name": "snsa",
   "language": "python",
   "name": "python3"
  },
  "language_info": {
   "codemirror_mode": {
    "name": "ipython",
    "version": 3
   },
   "file_extension": ".py",
   "mimetype": "text/x-python",
   "name": "python",
   "nbconvert_exporter": "python",
   "pygments_lexer": "ipython3",
   "version": "3.9.21"
  }
 },
 "nbformat": 4,
 "nbformat_minor": 5
}
