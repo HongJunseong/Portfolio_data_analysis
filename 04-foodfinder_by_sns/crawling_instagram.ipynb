{
 "cells": [
  {
   "cell_type": "code",
   "execution_count": null,
   "id": "9af47af2-ceba-4db2-bbf2-d0b6ce0a68dc",
   "metadata": {},
   "outputs": [],
   "source": [
    "from selenium import webdriver\n",
    "from selenium.webdriver.common.by import By\n",
    "import time\n",
    "import pandas as pd"
   ]
  },
  {
   "cell_type": "code",
   "execution_count": null,
   "id": "2c191c42-9eaa-418b-b410-50e61dc5387b",
   "metadata": {},
   "outputs": [],
   "source": [
    "# selenium을 활용한 Instagram 게시글 접근 코드\n",
    "\n",
    "# 로그인 정보\n",
    "_INSTAGRAM_ID = 'YOUR ID'\n",
    "_INSTAGRAM_PW = 'YOUR PW'\n",
    "\n",
    "# 옵션 설정\n",
    "options = webdriver.ChromeOptions()\n",
    "user_agent= \"Mozilla/5.0 (Macintosh; Intel Mac OS X 10_15_7) AppleWebKit/537.36 (KHTML, like Gecko) Chrome/110.4.1.6 Safari/537.36\"\n",
    "options.add_argument('user-agent=' + user_agent)\n",
    "\n",
    "dr = webdriver.Chrome(options=options)\n",
    "dr.set_window_size(820, 1000)\n",
    "\n",
    "# 인스타그램 로그인\n",
    "dr.get('https://www.instagram.com/')\n",
    "time.sleep(3)\n",
    "\n",
    "input_id = dr.find_element(By.CSS_SELECTOR, 'input[name=\"username\"]')\n",
    "input_pw = dr.find_element(By.CSS_SELECTOR, 'input[name=\"password\"]')\n",
    "button_login = dr.find_element(By.CSS_SELECTOR, 'button[type=\"submit\"]')\n",
    "input_id.send_keys(_INSTAGRAM_ID)\n",
    "input_pw.send_keys(_INSTAGRAM_PW)\n",
    "button_login.click()\n",
    "time.sleep(5)\n",
    "\n",
    "# 팝업 처리 (나중에 저장하기)\n",
    "button = dr.find_elements(By.XPATH, \"//*[contains(text(), '나중에 하기')]\")\n",
    "if len(button) > 0:\n",
    "    button[0].click()\n",
    "\n",
    "# 팝업 처리 (홈 화면에 추가)\n",
    "time.sleep(5)\n",
    "button = dr.find_elements(By.XPATH, \"//*[contains(text(), '취소')]\")\n",
    "if len(button) > 0:\n",
    "    button[0].click()\n",
    "\n",
    "# 팝업 처리 (알림 설정)\n",
    "#time.sleep(5)\n",
    "#button = dr.find_elements(By.XPATH, \"//*[contains(text(), '나중에 하기')]\")\n",
    "#if len(button) > 0:\n",
    "#    button[0].click()\n",
    "\n",
    "# 맛집 검색 페이지로 이동 (키워드 변경해가면서 사용 ex: 여수맛집, 제주도맛집)\n",
    "dr.get('https://www.instagram.com/explore/search/keyword/?q=%23여수맛집')\n",
    "time.sleep(5)\n"
   ]
  },
  {
   "cell_type": "code",
   "execution_count": null,
   "id": "cfb9b063-850d-469f-b972-b1261a9b0b17",
   "metadata": {},
   "outputs": [],
   "source": [
    "from crawling_utils import select_first\n",
    "\n",
    "# 데이터 수집\n",
    "select_first(dr) # 첫 게시글 열기"
   ]
  },
  {
   "cell_type": "code",
   "execution_count": 5,
   "id": "8ebf657b",
   "metadata": {},
   "outputs": [],
   "source": [
    "results = [] # 크롤링 결과를 저장할 리스트"
   ]
  },
  {
   "cell_type": "code",
   "execution_count": null,
   "id": "73073f9c-be2b-44b9-87cf-078022f8d0cb",
   "metadata": {},
   "outputs": [],
   "source": [
    "from crawling_utils import move_next, get_content\n",
    "\n",
    "# 크롤링 함수 - target 개수만큼 게시글을 넘어가며, 내용을 크롤링함\n",
    "def crawling_instagram(target):\n",
    "    cnt = 0\n",
    "    while cnt < target:\n",
    "        try:\n",
    "            data = get_content(dr)\n",
    "            if data is not None:\n",
    "                results.append(data)\n",
    "                cnt += 1\n",
    "                print(cnt)\n",
    "            move_next(dr)\n",
    "\n",
    "        except:\n",
    "            time.sleep(7)\n",
    "            move_next(dr)"
   ]
  },
  {
   "cell_type": "code",
   "execution_count": null,
   "id": "a965ce04-bd85-4e8a-a86d-19e698194322",
   "metadata": {},
   "outputs": [
    {
     "name": "stdout",
     "output_type": "stream",
     "text": [
      "1\n",
      "2\n"
     ]
    }
   ],
   "source": [
    "crawling_instagram(2)"
   ]
  },
  {
   "cell_type": "code",
   "execution_count": 27,
   "id": "aafee964-d917-4d36-bdbc-717b39a53814",
   "metadata": {
    "scrolled": true
   },
   "outputs": [],
   "source": [
    "# 결과 리스트를 데이터프레임으로 변환\n",
    "results_df = pd.DataFrame(results)\n",
    "results_df.columns = ['content', 'likes','hashtags', 'comments', 'restaurant name', 'address', 'date']\n",
    "results_df.drop_duplicates(subset=['content'], inplace=True) # 광고 등 중복 게시글 제거"
   ]
  },
  {
   "cell_type": "code",
   "execution_count": 28,
   "id": "9c3bbe30",
   "metadata": {},
   "outputs": [],
   "source": [
    "from crawling_utils import clear_emoji\n",
    "\n",
    "# 이모지 제거 및 빈칸 삭제\n",
    "# 데이터가 깨지지 않고 저장될 수 있도록 함\n",
    "# 이모지가 포함되어 있으면 cp949로 encoding 할 수 없음\n",
    "results_df = clear_emoji(results_df)"
   ]
  },
  {
   "cell_type": "code",
   "execution_count": 29,
   "id": "a46330e2",
   "metadata": {},
   "outputs": [],
   "source": [
    "# 결과 저장 (임의의 이름)\n",
    "results_df.to_csv('region_restaurant.csv', encoding='cp949', index=False)"
   ]
  }
 ],
 "metadata": {
  "kernelspec": {
   "display_name": "snsa",
   "language": "python",
   "name": "python3"
  },
  "language_info": {
   "codemirror_mode": {
    "name": "ipython",
    "version": 3
   },
   "file_extension": ".py",
   "mimetype": "text/x-python",
   "name": "python",
   "nbconvert_exporter": "python",
   "pygments_lexer": "ipython3",
   "version": "3.9.21"
  }
 },
 "nbformat": 4,
 "nbformat_minor": 5
}
