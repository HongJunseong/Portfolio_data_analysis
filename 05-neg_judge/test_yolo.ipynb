{
 "cells": [
  {
   "cell_type": "code",
   "execution_count": 1,
   "metadata": {},
   "outputs": [
    {
     "name": "stdout",
     "output_type": "stream",
     "text": [
      "[]\n"
     ]
    }
   ],
   "source": [
    "import cv2\n",
    "import numpy as np\n",
    "\n",
    "# YOLOv3 608 모델 로드\n",
    "yolo_net = cv2.dnn.readNet(\"./yolo_file/yolov3.weights\", \"./yolo_file/yolov3.cfg\")\n",
    "\n",
    "# YOLO 레이어 가져오기\n",
    "output_layers = [yolo_net.getLayerNames()[i - 1] for i in yolo_net.getUnconnectedOutLayers()]\n",
    "\n",
    "# 클래스 이름 로드 (coco.names 파일)\n",
    "classes = []\n",
    "with open(\"./yolo_file/coco.names\", \"r\") as f:\n",
    "    classes = [line.strip() for line in f.readlines()]\n",
    "\n",
    "def process_frame(frame):\n",
    "    # YOLO 모델을 사용하여 객체를 감지하는 함수\n",
    "    blob = cv2.dnn.blobFromImage(frame, 0.00392, (608, 608), (0, 0, 0), True, crop=False)\n",
    "    yolo_net.setInput(blob)\n",
    "    outputs = yolo_net.forward(output_layers)\n",
    "    return outputs\n",
    "\n",
    "def get_objects_from_frame(frame):\n",
    "    # 프레임에서 객체를 추출하는 함수\n",
    "    outputs = process_frame(frame)\n",
    "    detected_objects = []\n",
    "    boxes = []  # 객체의 바운딩 박스를 저장할 리스트\n",
    "    confidences = []  # 객체의 신뢰도를 저장할 리스트\n",
    "    class_ids = []  # 클래스 ID 저장\n",
    "    \n",
    "    height, width, _ = frame.shape\n",
    "    \n",
    "    for output in outputs:\n",
    "        for detection in output:\n",
    "            scores = detection[5:]  # 확률 정보 (각 클래스의 확률)\n",
    "            class_id = np.argmax(scores)  # 확률이 가장 높은 클래스의 인덱스\n",
    "            confidence = scores[class_id]  # 해당 클래스의 확률 (신뢰도)\n",
    "\n",
    "            if confidence > 0.5:  # 신뢰도가 0.5 이상인 객체만 추출\n",
    "                center_x = int(detection[0] * width)\n",
    "                center_y = int(detection[1] * height)\n",
    "                w = int(detection[2] * width)\n",
    "                h = int(detection[3] * height)\n",
    "\n",
    "                # 바운딩 박스의 좌상단 코너\n",
    "                x = int(center_x - w / 2)\n",
    "                y = int(center_y - h / 2)\n",
    "\n",
    "                boxes.append([x, y, w, h])\n",
    "                confidences.append(float(confidence))\n",
    "                class_ids.append(class_id)\n",
    "    \n",
    "    # Non-maxima suppression을 사용하여 겹치는 박스를 제거\n",
    "    indices = cv2.dnn.NMSBoxes(boxes, confidences, 0.5, 0.4)\n",
    "    \n",
    "    for i in indices.flatten():\n",
    "        box = boxes[i]\n",
    "        x, y, w, h = box\n",
    "        label = str(classes[class_ids[i]])\n",
    "        color = (0, 255, 0)  # 객체의 색깔 (초록색)\n",
    "        cv2.rectangle(frame, (x, y), (x + w, y + h), color, 2)\n",
    "        cv2.putText(frame, label, (x, y - 10), cv2.FONT_HERSHEY_SIMPLEX, 0.5, color, 2)\n",
    "\n",
    "    return frame, detected_objects\n",
    "\n",
    "# 프레임에서 객체를 감지하는 예시\n",
    "frame = cv2.imread(\"./bb_1_180114_pedestrian_241_22483.mp4_frame_66.jpg\")\n",
    "frame_with_objects, detected_objects = get_objects_from_frame(frame)\n",
    "\n",
    "# 결과 이미지 보여주기\n",
    "cv2.imshow(\"Detected Objects\", frame_with_objects)\n",
    "cv2.waitKey(0)\n",
    "cv2.destroyAllWindows()\n",
    "\n",
    "# 감지된 객체들 출력\n",
    "print(detected_objects)\n"
   ]
  }
 ],
 "metadata": {
  "kernelspec": {
   "display_name": "neg_judge",
   "language": "python",
   "name": "python3"
  },
  "language_info": {
   "codemirror_mode": {
    "name": "ipython",
    "version": 3
   },
   "file_extension": ".py",
   "mimetype": "text/x-python",
   "name": "python",
   "nbconvert_exporter": "python",
   "pygments_lexer": "ipython3",
   "version": "3.9.21"
  }
 },
 "nbformat": 4,
 "nbformat_minor": 2
}
